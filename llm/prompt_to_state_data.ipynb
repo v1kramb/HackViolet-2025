{
 "cells": [
  {
   "cell_type": "markdown",
   "id": "20a29bd1",
   "metadata": {},
   "source": [
    "# Tag -> state descriptions/rankings\n",
    "\n",
    "Processes in parallel for all states"
   ]
  },
  {
   "cell_type": "code",
   "execution_count": 1,
   "id": "2dbf1941",
   "metadata": {},
   "outputs": [
    {
     "name": "stdout",
     "output_type": "stream",
     "text": [
      "Enter API key for OpenAI: ········\n"
     ]
    }
   ],
   "source": [
    "import openai\n",
    "import getpass\n",
    "import os\n",
    "\n",
    "if not os.environ.get(\"OPENAI_API_KEY\"):\n",
    "  os.environ[\"OPENAI_API_KEY\"] = getpass.getpass(\"Enter API key for OpenAI: \")"
   ]
  },
  {
   "cell_type": "code",
   "execution_count": 2,
   "id": "5bad9681",
   "metadata": {},
   "outputs": [],
   "source": [
    "import asyncio\n",
    "import json\n",
    "import httpx\n",
    "\n",
    "# Set up OpenAI API client\n",
    "client = openai.AsyncOpenAI()\n",
    "\n",
    "# List of states\n",
    "states = [\n",
    "    \"Alabama\", \"Alaska\", \"Arizona\", \"Arkansas\", \"California\", \"Colorado\", \"Connecticut\",\n",
    "    \"Delaware\", \"Florida\", \"Georgia\", \"Hawaii\", \"Idaho\", \"Illinois\", \"Indiana\", \"Iowa\",\n",
    "    \"Kansas\", \"Kentucky\", \"Louisiana\", \"Maine\", \"Maryland\", \"Massachusetts\", \"Michigan\",\n",
    "    \"Minnesota\", \"Mississippi\", \"Missouri\", \"Montana\", \"Nebraska\", \"Nevada\", \"New Hampshire\",\n",
    "    \"New Jersey\", \"New Mexico\", \"New York\", \"North Carolina\", \"North Dakota\", \"Ohio\",\n",
    "    \"Oklahoma\", \"Oregon\", \"Pennsylvania\", \"Rhode Island\", \"South Carolina\", \"South Dakota\",\n",
    "    \"Tennessee\", \"Texas\", \"Utah\", \"Vermont\", \"Virginia\", \"Washington\", \"West Virginia\",\n",
    "    \"Wisconsin\", \"Wyoming\"\n",
    "]\n",
    "\n",
    "# Function to asynchronously fetch data for a state\n",
    "async def get_status(state, tag):\n",
    "    prompt = f\"\"\"\n",
    "    Provide a brief summary and score for {tag} in {state}.\n",
    "    1. A one-sentence summary of {tag} in {state}.\n",
    "    2. A score from 0 to 100, where 0 = fully restricted, and 100 = fully accessible.\n",
    "    \n",
    "    Output format:\n",
    "    {{\"state\": \"{state}\", \"summary\": \"Short summary here\", \"score\": 0-100}}\n",
    "    \"\"\"\n",
    "\n",
    "    try:\n",
    "        response = await client.chat.completions.create(\n",
    "            messages=[{\"role\": \"user\", \"content\": prompt}],\n",
    "            model=\"gpt-4o-mini\",\n",
    "        )\n",
    "        content = response.choices[0].message.content\n",
    "        return json.loads(content)\n",
    "    except Exception as e:\n",
    "        print(f\"Error fetching data for {state}: {e}\")\n",
    "        return {\"state\": state, \"summary\": \"Error fetching data\", \"score\": None}\n",
    "\n",
    "# Run multiple API calls in parallel\n",
    "async def fetch_all_states(tag):\n",
    "    tasks = [get_status(state, tag) for state in states]\n",
    "    results = await asyncio.gather(*tasks)\n",
    "    return results"
   ]
  },
  {
   "cell_type": "code",
   "execution_count": 3,
   "id": "9dfcd1eb",
   "metadata": {},
   "outputs": [],
   "source": [
    "tag = \"abortion rights\""
   ]
  },
  {
   "cell_type": "code",
   "execution_count": 6,
   "id": "a79ae1b4",
   "metadata": {},
   "outputs": [
    {
     "name": "stdout",
     "output_type": "stream",
     "text": [
      "Data collection complete!\n"
     ]
    }
   ],
   "source": [
    "import nest_asyncio\n",
    "nest_asyncio.apply()  # Allows nested async functions\n",
    "\n",
    "async def main():\n",
    "    results = await fetch_all_states(tag)\n",
    "    with open(\"abortion_rights_by_state.json\", \"w\") as f:\n",
    "        json.dump(results, f, indent=4)\n",
    "    print(\"Data collection complete!\")\n",
    "\n",
    "await main()"
   ]
  }
 ],
 "metadata": {
  "kernelspec": {
   "display_name": "Python 3 (ipykernel)",
   "language": "python",
   "name": "python3"
  },
  "language_info": {
   "codemirror_mode": {
    "name": "ipython",
    "version": 3
   },
   "file_extension": ".py",
   "mimetype": "text/x-python",
   "name": "python",
   "nbconvert_exporter": "python",
   "pygments_lexer": "ipython3",
   "version": "3.11.4"
  }
 },
 "nbformat": 4,
 "nbformat_minor": 5
}
